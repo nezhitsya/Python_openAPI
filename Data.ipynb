{
  "nbformat": 4,
  "nbformat_minor": 0,
  "metadata": {
    "colab": {
      "name": "Data.ipynb",
      "private_outputs": true,
      "provenance": [],
      "mount_file_id": "1JIa2VAQQxRu9PUyC3lSDXyvMHnDGYdCB",
      "authorship_tag": "ABX9TyMQ74kZkgE+eJIEm+LvMVsB",
      "include_colab_link": true
    },
    "kernelspec": {
      "name": "python3",
      "display_name": "Python 3"
    }
  },
  "cells": [
    {
      "cell_type": "markdown",
      "metadata": {
        "id": "view-in-github",
        "colab_type": "text"
      },
      "source": [
        "<a href=\"https://colab.research.google.com/github/nezhitsya/Python_openAPI/blob/main/Data.ipynb\" target=\"_parent\"><img src=\"https://colab.research.google.com/assets/colab-badge.svg\" alt=\"Open In Colab\"/></a>"
      ]
    },
    {
      "cell_type": "code",
      "metadata": {
        "id": "TBlugSiL1MZe"
      },
      "source": [
        "import json\n",
        "\n",
        "with open('/content/drive/MyDrive/서울특별시 동물병원 인허가 정보.json', 'r') as f :\n",
        "    json_data = json.load(f)\n",
        "\n",
        "print(json.dumps(json_data, indent='\\t'))"
      ],
      "execution_count": null,
      "outputs": []
    },
    {
      "cell_type": "code",
      "metadata": {
        "id": "jtN4Q-fo8dvD"
      },
      "source": [
        "len(json_data[\"DATA\"])"
      ],
      "execution_count": null,
      "outputs": []
    },
    {
      "cell_type": "code",
      "metadata": {
        "id": "1EXYuNX62obH"
      },
      "source": [
        "hospital = {}\n",
        "hospital['Hospital'] = {}\n",
        "\n",
        "for i in range(1969) :\n",
        "    tel = json_data['DATA'][i]['sitetel']\n",
        "    name = json_data['DATA'][i]['bplcnm']\n",
        "\n",
        "    # 주소가 제공되어 있지 않을 시\n",
        "    if not json_data['DATA'][i]['sitewhladdr'] :\n",
        "        city = \"\"\n",
        "        state = \"\"\n",
        "    else :\n",
        "        address = json_data['DATA'][i]['sitewhladdr'].split()\n",
        "        city = address[0]\n",
        "        state = address[1]\n",
        "\n",
        "    hospital['Hospital'][name] = {\"tel\": tel, \"city\": city, \"state\": state}"
      ],
      "execution_count": null,
      "outputs": []
    },
    {
      "cell_type": "code",
      "metadata": {
        "id": "JNR4rKE04SZS"
      },
      "source": [
        "with open('/content/drive/MyDrive/data.json', 'w', encoding='utf-8') as make_file:\n",
        "    json.dump(hospital, make_file, ensure_ascii=False, indent=\"\\t\")"
      ],
      "execution_count": null,
      "outputs": []
    },
    {
      "cell_type": "code",
      "metadata": {
        "id": "M4YXW9mJ4oUT"
      },
      "source": [
        "with open('/content/drive/MyDrive/data.json', 'r', encoding='utf-8') as f:\n",
        "    hos_data = json.load(f)\n",
        "print(json.dumps(hos_data, ensure_ascii=False, indent=\"\\t\"))"
      ],
      "execution_count": null,
      "outputs": []
    }
  ]
}